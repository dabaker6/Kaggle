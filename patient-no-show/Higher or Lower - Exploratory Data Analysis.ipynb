{
 "cells": [
  {
   "cell_type": "markdown",
   "metadata": {
    "_cell_guid": "a4c87791-4db1-4c97-b60c-9ffed8a01cd2",
    "_uuid": "2062bc5dcb95bcb8fdb80389154d9e12cf8319c2"
   },
   "source": [
    "## Import of libraries and data cleansing"
   ]
  },
  {
   "cell_type": "code",
   "execution_count": 1,
   "metadata": {
    "_cell_guid": "acd1f1a4-6124-4a20-9cea-95051edf6df4",
    "_uuid": "514bf9718c174216d95720d29f5e3e7c3c4cde2c",
    "collapsed": true
   },
   "outputs": [],
   "source": [
    "# Import libraries\n",
    "import pandas as pd\n",
    "import numpy as np\n",
    "import matplotlib.pyplot as plt\n",
    "import seaborn as sns\n",
    "%matplotlib inline"
   ]
  },
  {
   "cell_type": "code",
   "execution_count": 2,
   "metadata": {
    "_cell_guid": "b3596407-5fe1-4ca5-949e-0cf813b1e6e4",
    "_uuid": "32512a5751710f95b84ed75ff8fa34fb2f2bbd64",
    "collapsed": true
   },
   "outputs": [],
   "source": [
    "#define function to determine the percentage of patients not attending appointments by certain feature\n",
    "def per_noshow(DataFrame,feature,feature_value):\n",
    "    \"\"\"\n",
    "    Take in the feature to analyse and the value of that feature and returns the percentage \n",
    "    of no-shows. Intended to use as part of lambda function to update DataFrame.\n",
    "    \n",
    "    Parameters\n",
    "    ----------\n",
    "    df : the DataFrame to analyse\n",
    "    feature : str\n",
    "        feature of the DataFrame to analyse\n",
    "    feature_value : scalar\n",
    "        the feature_value to analyse\n",
    "        \n",
    "    \"\"\"\n",
    "    no_show = DataFrame[(DataFrame['No-show']=='Yes') & (DataFrame[feature]==feature_value)]['No-show'].count()\n",
    "    total = DataFrame[DataFrame[feature]==feature_value][feature].count()\n",
    "    return round((no_show / total) * 100,2)"
   ]
  },
  {
   "cell_type": "code",
   "execution_count": 3,
   "metadata": {
    "collapsed": true
   },
   "outputs": [],
   "source": [
    "# Define a class in for creating graphs.\n",
    "\n",
    "class feat_to_analyse(object):\n",
    "    \"\"\"A feature from the dataframe can have a countplot and percentage of patients not\n",
    "    attending appointments calculated.\n",
    "    \n",
    "    Attributes:\n",
    "        feature: feature of the dataframe to analyse\n",
    "    \n",
    "    \"\"\"\n",
    "    def __init__(self,feature):\n",
    "        self.feature = feature\n",
    "    \n",
    "    def graph(self,df):\n",
    "        \"\"\"Plot a countplot using the feature assigned from the DataFrame  \n",
    "        \n",
    "        Attributes:\n",
    "            df: the DataFrame where the feature is\n",
    "        \n",
    "        \"\"\"\n",
    "        sns.countplot(self.feature,data=df,hue='No-show',palette='viridis')\n",
    "\n",
    "    def percentage(self,df,x):\n",
    "        \"\"\"Calculate percentage of patients not attending appointments\n",
    "        \n",
    "        Attributes:\n",
    "            df: the DataFrame where the feature is\n",
    "            x: return values from the DataFrame based on a certain value\n",
    "        \n",
    "        \"\"\"\n",
    "        percentage = (sum((df[self.feature]==x) & (df['No-show']=='Yes'))/sum(df[self.feature]==x))*100\n",
    "        print('Percentage of {} patients not attending appointments: {}%'.format(self.feature,round(percentage,2)))"
   ]
  },
  {
   "cell_type": "code",
   "execution_count": 4,
   "metadata": {
    "_cell_guid": "82f2e386-7137-4b4b-a24a-00378a9530a0",
    "_uuid": "1d381656face741ead1acb6906c4f3de6688c4ce",
    "collapsed": true
   },
   "outputs": [],
   "source": [
    "# import data into dataframe\n",
    "df = pd.read_csv('./input/KaggleV2-May-2016.csv')"
   ]
  },
  {
   "cell_type": "code",
   "execution_count": 5,
   "metadata": {
    "_cell_guid": "24d655d9-c6b5-4705-85a0-1350933a341f",
    "_uuid": "188ee22bc668183eadf1733c5ce0f0c405313dc0"
   },
   "outputs": [
    {
     "name": "stdout",
     "output_type": "stream",
     "text": [
      "<class 'pandas.core.frame.DataFrame'>\n",
      "RangeIndex: 110527 entries, 0 to 110526\n",
      "Data columns (total 14 columns):\n",
      "PatientId         110527 non-null float64\n",
      "AppointmentID     110527 non-null int64\n",
      "Gender            110527 non-null object\n",
      "ScheduledDay      110527 non-null object\n",
      "AppointmentDay    110527 non-null object\n",
      "Age               110527 non-null int64\n",
      "Neighbourhood     110527 non-null object\n",
      "Scholarship       110527 non-null int64\n",
      "Hipertension      110527 non-null int64\n",
      "Diabetes          110527 non-null int64\n",
      "Alcoholism        110527 non-null int64\n",
      "Handcap           110527 non-null int64\n",
      "SMS_received      110527 non-null int64\n",
      "No-show           110527 non-null object\n",
      "dtypes: float64(1), int64(8), object(5)\n",
      "memory usage: 11.8+ MB\n"
     ]
    }
   ],
   "source": [
    "#Check info about dataframe\n",
    "df.info()"
   ]
  },
  {
   "cell_type": "code",
   "execution_count": 6,
   "metadata": {
    "_cell_guid": "c6b0d82d-aec2-48e9-ac9b-a6d845984c8d",
    "_uuid": "eda5bfdb3880c9505f8f52535d9b397ac8e08c68",
    "collapsed": true
   },
   "outputs": [],
   "source": [
    "#Rename columns with spelling errors\n",
    "df.rename(columns={'Hipertension':'Hypertension','Handcap':'Handicap'},inplace=True)"
   ]
  },
  {
   "cell_type": "code",
   "execution_count": 7,
   "metadata": {
    "_cell_guid": "361bbb3b-ac31-4338-9d83-5ba037b03dcc",
    "_uuid": "b42d72f82ad1bce86ef38c63f9fa06a5bcaf065e"
   },
   "outputs": [
    {
     "data": {
      "text/html": [
       "<div>\n",
       "<style>\n",
       "    .dataframe thead tr:only-child th {\n",
       "        text-align: right;\n",
       "    }\n",
       "\n",
       "    .dataframe thead th {\n",
       "        text-align: left;\n",
       "    }\n",
       "\n",
       "    .dataframe tbody tr th {\n",
       "        vertical-align: top;\n",
       "    }\n",
       "</style>\n",
       "<table border=\"1\" class=\"dataframe\">\n",
       "  <thead>\n",
       "    <tr style=\"text-align: right;\">\n",
       "      <th></th>\n",
       "      <th>PatientId</th>\n",
       "      <th>AppointmentID</th>\n",
       "      <th>Age</th>\n",
       "      <th>Scholarship</th>\n",
       "      <th>Hypertension</th>\n",
       "      <th>Diabetes</th>\n",
       "      <th>Alcoholism</th>\n",
       "      <th>Handicap</th>\n",
       "      <th>SMS_received</th>\n",
       "    </tr>\n",
       "  </thead>\n",
       "  <tbody>\n",
       "    <tr>\n",
       "      <th>count</th>\n",
       "      <td>1.105270e+05</td>\n",
       "      <td>1.105270e+05</td>\n",
       "      <td>110527.000000</td>\n",
       "      <td>110527.000000</td>\n",
       "      <td>110527.000000</td>\n",
       "      <td>110527.000000</td>\n",
       "      <td>110527.000000</td>\n",
       "      <td>110527.000000</td>\n",
       "      <td>110527.000000</td>\n",
       "    </tr>\n",
       "    <tr>\n",
       "      <th>mean</th>\n",
       "      <td>1.474963e+14</td>\n",
       "      <td>5.675305e+06</td>\n",
       "      <td>37.088874</td>\n",
       "      <td>0.098266</td>\n",
       "      <td>0.197246</td>\n",
       "      <td>0.071865</td>\n",
       "      <td>0.030400</td>\n",
       "      <td>0.022248</td>\n",
       "      <td>0.321026</td>\n",
       "    </tr>\n",
       "    <tr>\n",
       "      <th>std</th>\n",
       "      <td>2.560949e+14</td>\n",
       "      <td>7.129575e+04</td>\n",
       "      <td>23.110205</td>\n",
       "      <td>0.297675</td>\n",
       "      <td>0.397921</td>\n",
       "      <td>0.258265</td>\n",
       "      <td>0.171686</td>\n",
       "      <td>0.161543</td>\n",
       "      <td>0.466873</td>\n",
       "    </tr>\n",
       "    <tr>\n",
       "      <th>min</th>\n",
       "      <td>3.921784e+04</td>\n",
       "      <td>5.030230e+06</td>\n",
       "      <td>-1.000000</td>\n",
       "      <td>0.000000</td>\n",
       "      <td>0.000000</td>\n",
       "      <td>0.000000</td>\n",
       "      <td>0.000000</td>\n",
       "      <td>0.000000</td>\n",
       "      <td>0.000000</td>\n",
       "    </tr>\n",
       "    <tr>\n",
       "      <th>25%</th>\n",
       "      <td>4.172614e+12</td>\n",
       "      <td>5.640286e+06</td>\n",
       "      <td>18.000000</td>\n",
       "      <td>0.000000</td>\n",
       "      <td>0.000000</td>\n",
       "      <td>0.000000</td>\n",
       "      <td>0.000000</td>\n",
       "      <td>0.000000</td>\n",
       "      <td>0.000000</td>\n",
       "    </tr>\n",
       "    <tr>\n",
       "      <th>50%</th>\n",
       "      <td>3.173184e+13</td>\n",
       "      <td>5.680573e+06</td>\n",
       "      <td>37.000000</td>\n",
       "      <td>0.000000</td>\n",
       "      <td>0.000000</td>\n",
       "      <td>0.000000</td>\n",
       "      <td>0.000000</td>\n",
       "      <td>0.000000</td>\n",
       "      <td>0.000000</td>\n",
       "    </tr>\n",
       "    <tr>\n",
       "      <th>75%</th>\n",
       "      <td>9.439172e+13</td>\n",
       "      <td>5.725524e+06</td>\n",
       "      <td>55.000000</td>\n",
       "      <td>0.000000</td>\n",
       "      <td>0.000000</td>\n",
       "      <td>0.000000</td>\n",
       "      <td>0.000000</td>\n",
       "      <td>0.000000</td>\n",
       "      <td>1.000000</td>\n",
       "    </tr>\n",
       "    <tr>\n",
       "      <th>max</th>\n",
       "      <td>9.999816e+14</td>\n",
       "      <td>5.790484e+06</td>\n",
       "      <td>115.000000</td>\n",
       "      <td>1.000000</td>\n",
       "      <td>1.000000</td>\n",
       "      <td>1.000000</td>\n",
       "      <td>1.000000</td>\n",
       "      <td>4.000000</td>\n",
       "      <td>1.000000</td>\n",
       "    </tr>\n",
       "  </tbody>\n",
       "</table>\n",
       "</div>"
      ],
      "text/plain": [
       "          PatientId  AppointmentID            Age    Scholarship  \\\n",
       "count  1.105270e+05   1.105270e+05  110527.000000  110527.000000   \n",
       "mean   1.474963e+14   5.675305e+06      37.088874       0.098266   \n",
       "std    2.560949e+14   7.129575e+04      23.110205       0.297675   \n",
       "min    3.921784e+04   5.030230e+06      -1.000000       0.000000   \n",
       "25%    4.172614e+12   5.640286e+06      18.000000       0.000000   \n",
       "50%    3.173184e+13   5.680573e+06      37.000000       0.000000   \n",
       "75%    9.439172e+13   5.725524e+06      55.000000       0.000000   \n",
       "max    9.999816e+14   5.790484e+06     115.000000       1.000000   \n",
       "\n",
       "        Hypertension       Diabetes     Alcoholism       Handicap  \\\n",
       "count  110527.000000  110527.000000  110527.000000  110527.000000   \n",
       "mean        0.197246       0.071865       0.030400       0.022248   \n",
       "std         0.397921       0.258265       0.171686       0.161543   \n",
       "min         0.000000       0.000000       0.000000       0.000000   \n",
       "25%         0.000000       0.000000       0.000000       0.000000   \n",
       "50%         0.000000       0.000000       0.000000       0.000000   \n",
       "75%         0.000000       0.000000       0.000000       0.000000   \n",
       "max         1.000000       1.000000       1.000000       4.000000   \n",
       "\n",
       "        SMS_received  \n",
       "count  110527.000000  \n",
       "mean        0.321026  \n",
       "std         0.466873  \n",
       "min         0.000000  \n",
       "25%         0.000000  \n",
       "50%         0.000000  \n",
       "75%         1.000000  \n",
       "max         1.000000  "
      ]
     },
     "execution_count": 7,
     "metadata": {},
     "output_type": "execute_result"
    }
   ],
   "source": [
    "# Grab info about DataFrame\n",
    "df.describe()"
   ]
  },
  {
   "cell_type": "markdown",
   "metadata": {
    "_cell_guid": "8e1eeb54-6a9e-4eea-9831-d5645132c1dd",
    "_uuid": "bc2160ff6f618bd20d519d6610c63e36796d707f"
   },
   "source": [
    "Appears to be a patient with a negative age, and also an age of 115, which is perhaps unlikely. These will be removed later"
   ]
  },
  {
   "cell_type": "code",
   "execution_count": 8,
   "metadata": {
    "_cell_guid": "d1fb54c3-0888-441e-a362-2381753e0eb9",
    "_uuid": "7b57cef5a6cfef66d61a8d7ee62f5d9e38a3d544"
   },
   "outputs": [
    {
     "data": {
      "text/html": [
       "<div>\n",
       "<style>\n",
       "    .dataframe thead tr:only-child th {\n",
       "        text-align: right;\n",
       "    }\n",
       "\n",
       "    .dataframe thead th {\n",
       "        text-align: left;\n",
       "    }\n",
       "\n",
       "    .dataframe tbody tr th {\n",
       "        vertical-align: top;\n",
       "    }\n",
       "</style>\n",
       "<table border=\"1\" class=\"dataframe\">\n",
       "  <thead>\n",
       "    <tr style=\"text-align: right;\">\n",
       "      <th></th>\n",
       "      <th>PatientId</th>\n",
       "      <th>AppointmentID</th>\n",
       "      <th>Gender</th>\n",
       "      <th>ScheduledDay</th>\n",
       "      <th>AppointmentDay</th>\n",
       "      <th>Age</th>\n",
       "      <th>Neighbourhood</th>\n",
       "      <th>Scholarship</th>\n",
       "      <th>Hypertension</th>\n",
       "      <th>Diabetes</th>\n",
       "      <th>Alcoholism</th>\n",
       "      <th>Handicap</th>\n",
       "      <th>SMS_received</th>\n",
       "      <th>No-show</th>\n",
       "    </tr>\n",
       "  </thead>\n",
       "  <tbody>\n",
       "    <tr>\n",
       "      <th>0</th>\n",
       "      <td>2.987250e+13</td>\n",
       "      <td>5642903</td>\n",
       "      <td>F</td>\n",
       "      <td>2016-04-29T18:38:08Z</td>\n",
       "      <td>2016-04-29T00:00:00Z</td>\n",
       "      <td>62</td>\n",
       "      <td>JARDIM DA PENHA</td>\n",
       "      <td>0</td>\n",
       "      <td>1</td>\n",
       "      <td>0</td>\n",
       "      <td>0</td>\n",
       "      <td>0</td>\n",
       "      <td>0</td>\n",
       "      <td>No</td>\n",
       "    </tr>\n",
       "    <tr>\n",
       "      <th>1</th>\n",
       "      <td>5.589978e+14</td>\n",
       "      <td>5642503</td>\n",
       "      <td>M</td>\n",
       "      <td>2016-04-29T16:08:27Z</td>\n",
       "      <td>2016-04-29T00:00:00Z</td>\n",
       "      <td>56</td>\n",
       "      <td>JARDIM DA PENHA</td>\n",
       "      <td>0</td>\n",
       "      <td>0</td>\n",
       "      <td>0</td>\n",
       "      <td>0</td>\n",
       "      <td>0</td>\n",
       "      <td>0</td>\n",
       "      <td>No</td>\n",
       "    </tr>\n",
       "    <tr>\n",
       "      <th>2</th>\n",
       "      <td>4.262962e+12</td>\n",
       "      <td>5642549</td>\n",
       "      <td>F</td>\n",
       "      <td>2016-04-29T16:19:04Z</td>\n",
       "      <td>2016-04-29T00:00:00Z</td>\n",
       "      <td>62</td>\n",
       "      <td>MATA DA PRAIA</td>\n",
       "      <td>0</td>\n",
       "      <td>0</td>\n",
       "      <td>0</td>\n",
       "      <td>0</td>\n",
       "      <td>0</td>\n",
       "      <td>0</td>\n",
       "      <td>No</td>\n",
       "    </tr>\n",
       "    <tr>\n",
       "      <th>3</th>\n",
       "      <td>8.679512e+11</td>\n",
       "      <td>5642828</td>\n",
       "      <td>F</td>\n",
       "      <td>2016-04-29T17:29:31Z</td>\n",
       "      <td>2016-04-29T00:00:00Z</td>\n",
       "      <td>8</td>\n",
       "      <td>PONTAL DE CAMBURI</td>\n",
       "      <td>0</td>\n",
       "      <td>0</td>\n",
       "      <td>0</td>\n",
       "      <td>0</td>\n",
       "      <td>0</td>\n",
       "      <td>0</td>\n",
       "      <td>No</td>\n",
       "    </tr>\n",
       "    <tr>\n",
       "      <th>4</th>\n",
       "      <td>8.841186e+12</td>\n",
       "      <td>5642494</td>\n",
       "      <td>F</td>\n",
       "      <td>2016-04-29T16:07:23Z</td>\n",
       "      <td>2016-04-29T00:00:00Z</td>\n",
       "      <td>56</td>\n",
       "      <td>JARDIM DA PENHA</td>\n",
       "      <td>0</td>\n",
       "      <td>1</td>\n",
       "      <td>1</td>\n",
       "      <td>0</td>\n",
       "      <td>0</td>\n",
       "      <td>0</td>\n",
       "      <td>No</td>\n",
       "    </tr>\n",
       "  </tbody>\n",
       "</table>\n",
       "</div>"
      ],
      "text/plain": [
       "      PatientId  AppointmentID Gender          ScheduledDay  \\\n",
       "0  2.987250e+13        5642903      F  2016-04-29T18:38:08Z   \n",
       "1  5.589978e+14        5642503      M  2016-04-29T16:08:27Z   \n",
       "2  4.262962e+12        5642549      F  2016-04-29T16:19:04Z   \n",
       "3  8.679512e+11        5642828      F  2016-04-29T17:29:31Z   \n",
       "4  8.841186e+12        5642494      F  2016-04-29T16:07:23Z   \n",
       "\n",
       "         AppointmentDay  Age      Neighbourhood  Scholarship  Hypertension  \\\n",
       "0  2016-04-29T00:00:00Z   62    JARDIM DA PENHA            0             1   \n",
       "1  2016-04-29T00:00:00Z   56    JARDIM DA PENHA            0             0   \n",
       "2  2016-04-29T00:00:00Z   62      MATA DA PRAIA            0             0   \n",
       "3  2016-04-29T00:00:00Z    8  PONTAL DE CAMBURI            0             0   \n",
       "4  2016-04-29T00:00:00Z   56    JARDIM DA PENHA            0             1   \n",
       "\n",
       "   Diabetes  Alcoholism  Handicap  SMS_received No-show  \n",
       "0         0           0         0             0      No  \n",
       "1         0           0         0             0      No  \n",
       "2         0           0         0             0      No  \n",
       "3         0           0         0             0      No  \n",
       "4         1           0         0             0      No  "
      ]
     },
     "execution_count": 8,
     "metadata": {},
     "output_type": "execute_result"
    }
   ],
   "source": [
    "df.head()"
   ]
  },
  {
   "cell_type": "markdown",
   "metadata": {
    "_cell_guid": "5a1fa642-d430-459e-b3b4-aa40de4dbdde",
    "_uuid": "5f29a6141e54bb71ba6c79788d0cfaa0ebbb7f0b"
   },
   "source": [
    "Patient ID and appointment ID are likely to be of no interest, and potentially add bias to any modelling.\n",
    "Appointment Day duplicates information in Scheduled day.\n",
    "These columns should be removed.\n",
    "Neighbourhood may/may not be of use, so will keep until after initial analysis."
   ]
  },
  {
   "cell_type": "code",
   "execution_count": 9,
   "metadata": {
    "_cell_guid": "b495bb69-5635-4e75-8ac3-3f65960d537c",
    "_uuid": "8cf89698f7c9dcb4392c0036f374956b4d1c9a40"
   },
   "outputs": [
    {
     "data": {
      "text/plain": [
       "<matplotlib.axes._subplots.AxesSubplot at 0x4c0f860>"
      ]
     },
     "execution_count": 9,
     "metadata": {},
     "output_type": "execute_result"
    },
    {
     "data": {
      "image/png": "[encoded data removed]",
      "text/plain": [
       "<matplotlib.figure.Figure at 0xba94ac8>"
      ]
     },
     "metadata": {},
     "output_type": "display_data"
    }
   ],
   "source": [
    "# Check for null values\n",
    "sns.heatmap(df.isnull(),yticklabels=False,cbar=False,cmap='viridis')"
   ]
  },
  {
   "cell_type": "markdown",
   "metadata": {
    "_cell_guid": "7d86c1db-7372-4e9e-aa7e-21ee8dba9b6a",
    "_uuid": "d7d4aebbeb3c1b2fe3648beb11c2ee7b4e165e9e"
   },
   "source": [
    "Very clean dataset - no null values!"
   ]
  },
  {
   "cell_type": "code",
   "execution_count": 10,
   "metadata": {
    "_cell_guid": "6ddaa591-2fd8-4e8d-8b4b-140738df5ca2",
    "_uuid": "5256ed89e6a22682cf51273789daaa13cf6b6f5a",
    "collapsed": true
   },
   "outputs": [],
   "source": [
    "# Clean ages\n",
    "df = df[(df['Age']>=0) & (df['Age']<100)]"
   ]
  },
  {
   "cell_type": "code",
   "execution_count": 11,
   "metadata": {
    "_cell_guid": "591c65dc-eb4e-4358-b81a-bfa2ab801eef",
    "_uuid": "419264698d29bb789c42f3d8e4fc4f3a606f1c55",
    "collapsed": true
   },
   "outputs": [],
   "source": [
    "# Drop columns\n",
    "df.drop(labels=['PatientId','AppointmentID','AppointmentDay'],axis=1,inplace=True)"
   ]
  },
  {
   "cell_type": "code",
   "execution_count": 12,
   "metadata": {
    "_cell_guid": "92deeda9-87d0-4038-a0af-546d86ae7c40",
    "_uuid": "2aa59189fe72bc164e3d341e2f31e8b3e76ecde6"
   },
   "outputs": [
    {
     "data": {
      "text/html": [
       "<div>\n",
       "<style>\n",
       "    .dataframe thead tr:only-child th {\n",
       "        text-align: right;\n",
       "    }\n",
       "\n",
       "    .dataframe thead th {\n",
       "        text-align: left;\n",
       "    }\n",
       "\n",
       "    .dataframe tbody tr th {\n",
       "        vertical-align: top;\n",
       "    }\n",
       "</style>\n",
       "<table border=\"1\" class=\"dataframe\">\n",
       "  <thead>\n",
       "    <tr style=\"text-align: right;\">\n",
       "      <th></th>\n",
       "      <th>Gender</th>\n",
       "      <th>ScheduledDay</th>\n",
       "      <th>Age</th>\n",
       "      <th>Neighbourhood</th>\n",
       "      <th>Scholarship</th>\n",
       "      <th>Hypertension</th>\n",
       "      <th>Diabetes</th>\n",
       "      <th>Alcoholism</th>\n",
       "      <th>Handicap</th>\n",
       "      <th>SMS_received</th>\n",
       "      <th>No-show</th>\n",
       "    </tr>\n",
       "  </thead>\n",
       "  <tbody>\n",
       "    <tr>\n",
       "      <th>0</th>\n",
       "      <td>F</td>\n",
       "      <td>2016-04-29T18:38:08Z</td>\n",
       "      <td>62</td>\n",
       "      <td>JARDIM DA PENHA</td>\n",
       "      <td>0</td>\n",
       "      <td>1</td>\n",
       "      <td>0</td>\n",
       "      <td>0</td>\n",
       "      <td>0</td>\n",
       "      <td>0</td>\n",
       "      <td>No</td>\n",
       "    </tr>\n",
       "    <tr>\n",
       "      <th>1</th>\n",
       "      <td>M</td>\n",
       "      <td>2016-04-29T16:08:27Z</td>\n",
       "      <td>56</td>\n",
       "      <td>JARDIM DA PENHA</td>\n",
       "      <td>0</td>\n",
       "      <td>0</td>\n",
       "      <td>0</td>\n",
       "      <td>0</td>\n",
       "      <td>0</td>\n",
       "      <td>0</td>\n",
       "      <td>No</td>\n",
       "    </tr>\n",
       "    <tr>\n",
       "      <th>2</th>\n",
       "      <td>F</td>\n",
       "      <td>2016-04-29T16:19:04Z</td>\n",
       "      <td>62</td>\n",
       "      <td>MATA DA PRAIA</td>\n",
       "      <td>0</td>\n",
       "      <td>0</td>\n",
       "      <td>0</td>\n",
       "      <td>0</td>\n",
       "      <td>0</td>\n",
       "      <td>0</td>\n",
       "      <td>No</td>\n",
       "    </tr>\n",
       "    <tr>\n",
       "      <th>3</th>\n",
       "      <td>F</td>\n",
       "      <td>2016-04-29T17:29:31Z</td>\n",
       "      <td>8</td>\n",
       "      <td>PONTAL DE CAMBURI</td>\n",
       "      <td>0</td>\n",
       "      <td>0</td>\n",
       "      <td>0</td>\n",
       "      <td>0</td>\n",
       "      <td>0</td>\n",
       "      <td>0</td>\n",
       "      <td>No</td>\n",
       "    </tr>\n",
       "    <tr>\n",
       "      <th>4</th>\n",
       "      <td>F</td>\n",
       "      <td>2016-04-29T16:07:23Z</td>\n",
       "      <td>56</td>\n",
       "      <td>JARDIM DA PENHA</td>\n",
       "      <td>0</td>\n",
       "      <td>1</td>\n",
       "      <td>1</td>\n",
       "      <td>0</td>\n",
       "      <td>0</td>\n",
       "      <td>0</td>\n",
       "      <td>No</td>\n",
       "    </tr>\n",
       "  </tbody>\n",
       "</table>\n",
       "</div>"
      ],
      "text/plain": [
       "  Gender          ScheduledDay  Age      Neighbourhood  Scholarship  \\\n",
       "0      F  2016-04-29T18:38:08Z   62    JARDIM DA PENHA            0   \n",
       "1      M  2016-04-29T16:08:27Z   56    JARDIM DA PENHA            0   \n",
       "2      F  2016-04-29T16:19:04Z   62      MATA DA PRAIA            0   \n",
       "3      F  2016-04-29T17:29:31Z    8  PONTAL DE CAMBURI            0   \n",
       "4      F  2016-04-29T16:07:23Z   56    JARDIM DA PENHA            0   \n",
       "\n",
       "   Hypertension  Diabetes  Alcoholism  Handicap  SMS_received No-show  \n",
       "0             1         0           0         0             0      No  \n",
       "1             0         0           0         0             0      No  \n",
       "2             0         0           0         0             0      No  \n",
       "3             0         0           0         0             0      No  \n",
       "4             1         1           0         0             0      No  "
      ]
     },
     "execution_count": 12,
     "metadata": {},
     "output_type": "execute_result"
    }
   ],
   "source": [
    "# confirm\n",
    "df.head()"
   ]
  },
  {
   "cell_type": "markdown",
   "metadata": {
    "_cell_guid": "2bb1457d-61d5-487b-a597-44c871dc6a8b",
    "_uuid": "de8b7f140c75d5b69210e6408e731e7785eafe64"
   },
   "source": [
    "## Analysis and Discussion"
   ]
  },
  {
   "cell_type": "code",
   "execution_count": 13,
   "metadata": {
    "_cell_guid": "3a5c33a6-77d2-474f-924b-778988928827",
    "_uuid": "4cf7e35e8a279267c2bf3969630390029da2da4a"
   },
   "outputs": [
    {
     "data": {
      "text/plain": [
       "No     88199\n",
       "Yes    22316\n",
       "Name: No-show, dtype: int64"
      ]
     },
     "execution_count": 13,
     "metadata": {},
     "output_type": "execute_result"
    }
   ],
   "source": [
    "# No shows for the entire population\n",
    "df['No-show'].value_counts()"
   ]
  },
  {
   "cell_type": "code",
   "execution_count": 14,
   "metadata": {
    "_cell_guid": "ae8a0a5d-9a91-4a88-a705-d3148b48b8fe",
    "_uuid": "8b750cd8881d18cbe8550e792a3835b71e278289"
   },
   "outputs": [
    {
     "name": "stdout",
     "output_type": "stream",
     "text": [
      "Percentage of patients not attending appointments: 20.19%\n"
     ]
    }
   ],
   "source": [
    "#Percentage no-shows over entire population\n",
    "percentage = (df[df['No-show']=='Yes']['No-show'].count()/df['No-show'].count())*100\n",
    "print('Percentage of patients not attending appointments: {}%'.format(round(percentage,2)))"
   ]
  },
  {
   "cell_type": "markdown",
   "metadata": {
    "_cell_guid": "7730bedf-a45d-4c30-98ee-43098f6ff13f",
    "_uuid": "8ff4669de314690c0aa3298f08e15772cd8baace",
    "collapsed": true
   },
   "source": [
    "Features to explore\n",
    "    \n",
    "    - Gender and no-show\n",
    "    - Co-morbidities\n",
    "    - Age vs no-show\n",
    "    - Day and no-show\n",
    "    - Hour of day and no-show\n",
    "    - Neigbourhood and no-show"
   ]
  },
  {
   "cell_type": "markdown",
   "metadata": {
    "_cell_guid": "30f4df4f-6ec1-441b-82bc-9ed11e9b0ee5",
    "_uuid": "c806f184878467b8a480bd54bec52114f00eb5cd"
   },
   "source": [
    "### Gender"
   ]
  },
  {
   "cell_type": "code",
   "execution_count": 15,
   "metadata": {},
   "outputs": [
    {
     "name": "stdout",
     "output_type": "stream",
     "text": [
      "Percentage of Gender patients not attending appointments: 19.97%\n",
      "Percentage of Gender patients not attending appointments: 20.31%\n"
     ]
    },
    {
     "data": {
      "image/png": "[encoded data removed]",
      "text/plain": [
       "<matplotlib.figure.Figure at 0x4c0fda0>"
      ]
     },
     "metadata": {},
     "output_type": "display_data"
    }
   ],
   "source": [
    "feature = feat_to_analyse('Gender')\n",
    "feature.graph(df)\n",
    "feature.percentage(df,'M')\n",
    "feature.percentage(df,'F')"
   ]
  },
  {
   "cell_type": "markdown",
   "metadata": {
    "_cell_guid": "0a3cf0fc-f8d2-4a8a-8de8-70a35de572c0",
    "_uuid": "48c41c85f9409d5890baf6ff21721678d95f27e3"
   },
   "source": [
    "### Co-morbitities"
   ]
  },
  {
   "cell_type": "code",
   "execution_count": 16,
   "metadata": {},
   "outputs": [
    {
     "name": "stdout",
     "output_type": "stream",
     "text": [
      "Percentage of Diabetes patients not attending appointments: 18.0%\n"
     ]
    },
    {
     "data": {
      "image/png": "[encoded data removed]",
      "text/plain": [
       "<matplotlib.figure.Figure at 0xc333978>"
      ]
     },
     "metadata": {},
     "output_type": "display_data"
    }
   ],
   "source": [
    "feature = feat_to_analyse('Diabetes')\n",
    "feature.graph(df)\n",
    "feature.percentage(df,1)"
   ]
  },
  {
   "cell_type": "code",
   "execution_count": 17,
   "metadata": {},
   "outputs": [
    {
     "name": "stdout",
     "output_type": "stream",
     "text": [
      "Percentage of Hypertension patients not attending appointments: 17.3%\n"
     ]
    },
    {
     "data": {
      "image/png": "[encoded data removed]",
      "text/plain": [
       "<matplotlib.figure.Figure at 0xc318438>"
      ]
     },
     "metadata": {},
     "output_type": "display_data"
    }
   ],
   "source": [
    "feature = feat_to_analyse('Hypertension')\n",
    "feature.graph(df)\n",
    "feature.percentage(df,1)"
   ]
  },
  {
   "cell_type": "code",
   "execution_count": 18,
   "metadata": {
    "_cell_guid": "254ad516-7c2b-432c-983f-acb8d025d0ae",
    "_uuid": "eb12cfcb01f1ca85e89fbbc51104dfc467401ab2"
   },
   "outputs": [
    {
     "name": "stdout",
     "output_type": "stream",
     "text": [
      "Percentage of Alcoholism patients not attending appointments: 20.15%\n"
     ]
    },
    {
     "data": {
      "image/png": "[encoded data removed]",
      "text/plain": [
       "<matplotlib.figure.Figure at 0xa767a20>"
      ]
     },
     "metadata": {},
     "output_type": "display_data"
    }
   ],
   "source": [
    "feature = feat_to_analyse('Alcoholism')\n",
    "feature.graph(df)\n",
    "feature.percentage(df,1)"
   ]
  },
  {
   "cell_type": "markdown",
   "metadata": {
    "_cell_guid": "378a2787-5209-4986-a210-611e6eb5ff0b",
    "_uuid": "81448e680fe3d015d58f9b2e6ae38c06faac917e"
   },
   "source": [
    "From the dataset it is unclear what is meant by a value > 1 in the handicap column, so it is assumed this means the paient has multiple handicaps"
   ]
  },
  {
   "cell_type": "code",
   "execution_count": 19,
   "metadata": {},
   "outputs": [
    {
     "name": "stdout",
     "output_type": "stream",
     "text": [
      "Percentage of Handicap patients not attending appointments: 17.83%\n",
      "Percentage of Handicap patients not attending appointments: 20.22%\n",
      "Percentage of Handicap patients not attending appointments: 23.08%\n",
      "Percentage of Handicap patients not attending appointments: 33.33%\n"
     ]
    },
    {
     "data": {
      "image/png": "[encoded data removed]",
      "text/plain": [
       "<matplotlib.figure.Figure at 0xc516f60>"
      ]
     },
     "metadata": {},
     "output_type": "display_data"
    }
   ],
   "source": [
    "feature = feat_to_analyse('Handicap')\n",
    "feature.graph(df)\n",
    "feature.percentage(df,1)\n",
    "feature.percentage(df,2)\n",
    "feature.percentage(df,3)\n",
    "feature.percentage(df,4)"
   ]
  },
  {
   "cell_type": "markdown",
   "metadata": {
    "_cell_guid": "24f56ce4-14e6-435c-a38f-b7e76f6480b0",
    "_uuid": "776b7cf078b4fd2b3a75caeac9291288e837fc5f"
   },
   "source": [
    "Patients with a handicap have a higher no-show percentage than the general population. This may be due to the patients requiring greater assistance to attend appointments."
   ]
  },
  {
   "cell_type": "code",
   "execution_count": 20,
   "metadata": {
    "_cell_guid": "f4aaf02e-ecf0-44b5-9da4-91ea175ce0f6",
    "_uuid": "3c0d7017c3aa672300412f8a073aa6e3c455424c"
   },
   "outputs": [
    {
     "name": "stdout",
     "output_type": "stream",
     "text": [
      "0    108280\n",
      "Name: Handicap, dtype: int64\n",
      "1    2036\n",
      "Name: Handicap, dtype: int64\n",
      "2    183\n",
      "Name: Handicap, dtype: int64\n",
      "3    13\n",
      "Name: Handicap, dtype: int64\n",
      "4    3\n",
      "Name: Handicap, dtype: int64\n"
     ]
    }
   ],
   "source": [
    "for i in range(0,5):\n",
    "    print(df[df['Handicap']==i]['Handicap'].value_counts())"
   ]
  },
  {
   "cell_type": "markdown",
   "metadata": {
    "_cell_guid": "aeacb3ed-dced-4014-91b9-1dd59a4f99ae",
    "_uuid": "43336d76bb12a16a0d4b30c6e745ece718c0a0ae"
   },
   "source": [
    "Although it appears patients with > 1 handicaps have a much higher rate of not attending appointments on further investigation the numbers of these patients is small compared to the rest of the population then these values should not be used."
   ]
  },
  {
   "cell_type": "code",
   "execution_count": 21,
   "metadata": {},
   "outputs": [
    {
     "name": "stdout",
     "output_type": "stream",
     "text": [
      "Percentage of Scholarship patients not attending appointments: 23.74%\n"
     ]
    },
    {
     "data": {
      "image/png": "[encoded data removed]",
      "text/plain": [
       "<matplotlib.figure.Figure at 0xc7c4898>"
      ]
     },
     "metadata": {},
     "output_type": "display_data"
    }
   ],
   "source": [
    "feature = feat_to_analyse('Scholarship')\n",
    "feature.graph(df)\n",
    "feature.percentage(df,1)"
   ]
  },
  {
   "cell_type": "markdown",
   "metadata": {
    "_cell_guid": "852fe2e6-e460-4baf-a5fe-72b3a5820cc9",
    "_uuid": "f133d9c3b7322d97cd7a17db6f826301a7ab0938"
   },
   "source": [
    "** Time / Day **"
   ]
  },
  {
   "cell_type": "code",
   "execution_count": 22,
   "metadata": {
    "_cell_guid": "2144ffd7-0a9b-480c-a6c0-21356b51ba19",
    "_uuid": "02010e5fff96b68a7ddaa6a5f6a997cf9bd1755b",
    "collapsed": true
   },
   "outputs": [],
   "source": [
    "#Change scheduled day to datetime\n",
    "df['ScheduledDay'] = pd.to_datetime(df['ScheduledDay'])"
   ]
  },
  {
   "cell_type": "code",
   "execution_count": 23,
   "metadata": {
    "_cell_guid": "0c0dd123-3450-46a5-9684-30b4999c90d8",
    "_uuid": "c125ee75514844f264a010d5e5c95f2319ec69c6",
    "collapsed": true
   },
   "outputs": [],
   "source": [
    "df['Time'] = df['ScheduledDay'].apply(lambda time: time.time)\n",
    "df['Hour'] = df['ScheduledDay'].apply(lambda time: time.hour)\n",
    "df['Month'] = df['ScheduledDay'].apply(lambda time: time.month)\n",
    "df['Day of Week'] = df['ScheduledDay'].apply(lambda time: time.dayofweek)"
   ]
  },
  {
   "cell_type": "code",
   "execution_count": 24,
   "metadata": {
    "_cell_guid": "78324b39-2088-40e2-ad9a-9243bdd1086e",
    "_uuid": "27af941049fe961867c4ad215be00b03fecb2e1d",
    "collapsed": true
   },
   "outputs": [],
   "source": [
    "# Map days of the week to numbers\n",
    "dmap = {0:'Mon',1:'Tue',2:'Wed',3:'Thu',4:'Fri',5:'Sat',6:'Sun'}\n",
    "df['Day of Week'] = df['Day of Week'].map(dmap)"
   ]
  },
  {
   "cell_type": "code",
   "execution_count": 25,
   "metadata": {
    "_cell_guid": "91152593-7c82-48e8-a8b1-36bafb4844bb",
    "_uuid": "c86355a3e7193ffdf2d0f3c638f504c7f1a3bf85"
   },
   "outputs": [
    {
     "data": {
      "text/html": [
       "<div>\n",
       "<style>\n",
       "    .dataframe thead tr:only-child th {\n",
       "        text-align: right;\n",
       "    }\n",
       "\n",
       "    .dataframe thead th {\n",
       "        text-align: left;\n",
       "    }\n",
       "\n",
       "    .dataframe tbody tr th {\n",
       "        vertical-align: top;\n",
       "    }\n",
       "</style>\n",
       "<table border=\"1\" class=\"dataframe\">\n",
       "  <thead>\n",
       "    <tr style=\"text-align: right;\">\n",
       "      <th></th>\n",
       "      <th>Gender</th>\n",
       "      <th>ScheduledDay</th>\n",
       "      <th>Age</th>\n",
       "      <th>Neighbourhood</th>\n",
       "      <th>Scholarship</th>\n",
       "      <th>Hypertension</th>\n",
       "      <th>Diabetes</th>\n",
       "      <th>Alcoholism</th>\n",
       "      <th>Handicap</th>\n",
       "      <th>SMS_received</th>\n",
       "      <th>No-show</th>\n",
       "      <th>Time</th>\n",
       "      <th>Hour</th>\n",
       "      <th>Month</th>\n",
       "      <th>Day of Week</th>\n",
       "    </tr>\n",
       "  </thead>\n",
       "  <tbody>\n",
       "    <tr>\n",
       "      <th>0</th>\n",
       "      <td>F</td>\n",
       "      <td>2016-04-29 18:38:08</td>\n",
       "      <td>62</td>\n",
       "      <td>JARDIM DA PENHA</td>\n",
       "      <td>0</td>\n",
       "      <td>1</td>\n",
       "      <td>0</td>\n",
       "      <td>0</td>\n",
       "      <td>0</td>\n",
       "      <td>0</td>\n",
       "      <td>No</td>\n",
       "      <td>&lt;built-in method time of Timestamp object at 0...</td>\n",
       "      <td>18</td>\n",
       "      <td>4</td>\n",
       "      <td>Fri</td>\n",
       "    </tr>\n",
       "    <tr>\n",
       "      <th>1</th>\n",
       "      <td>M</td>\n",
       "      <td>2016-04-29 16:08:27</td>\n",
       "      <td>56</td>\n",
       "      <td>JARDIM DA PENHA</td>\n",
       "      <td>0</td>\n",
       "      <td>0</td>\n",
       "      <td>0</td>\n",
       "      <td>0</td>\n",
       "      <td>0</td>\n",
       "      <td>0</td>\n",
       "      <td>No</td>\n",
       "      <td>&lt;built-in method time of Timestamp object at 0...</td>\n",
       "      <td>16</td>\n",
       "      <td>4</td>\n",
       "      <td>Fri</td>\n",
       "    </tr>\n",
       "    <tr>\n",
       "      <th>2</th>\n",
       "      <td>F</td>\n",
       "      <td>2016-04-29 16:19:04</td>\n",
       "      <td>62</td>\n",
       "      <td>MATA DA PRAIA</td>\n",
       "      <td>0</td>\n",
       "      <td>0</td>\n",
       "      <td>0</td>\n",
       "      <td>0</td>\n",
       "      <td>0</td>\n",
       "      <td>0</td>\n",
       "      <td>No</td>\n",
       "      <td>&lt;built-in method time of Timestamp object at 0...</td>\n",
       "      <td>16</td>\n",
       "      <td>4</td>\n",
       "      <td>Fri</td>\n",
       "    </tr>\n",
       "    <tr>\n",
       "      <th>3</th>\n",
       "      <td>F</td>\n",
       "      <td>2016-04-29 17:29:31</td>\n",
       "      <td>8</td>\n",
       "      <td>PONTAL DE CAMBURI</td>\n",
       "      <td>0</td>\n",
       "      <td>0</td>\n",
       "      <td>0</td>\n",
       "      <td>0</td>\n",
       "      <td>0</td>\n",
       "      <td>0</td>\n",
       "      <td>No</td>\n",
       "      <td>&lt;built-in method time of Timestamp object at 0...</td>\n",
       "      <td>17</td>\n",
       "      <td>4</td>\n",
       "      <td>Fri</td>\n",
       "    </tr>\n",
       "    <tr>\n",
       "      <th>4</th>\n",
       "      <td>F</td>\n",
       "      <td>2016-04-29 16:07:23</td>\n",
       "      <td>56</td>\n",
       "      <td>JARDIM DA PENHA</td>\n",
       "      <td>0</td>\n",
       "      <td>1</td>\n",
       "      <td>1</td>\n",
       "      <td>0</td>\n",
       "      <td>0</td>\n",
       "      <td>0</td>\n",
       "      <td>No</td>\n",
       "      <td>&lt;built-in method time of Timestamp object at 0...</td>\n",
       "      <td>16</td>\n",
       "      <td>4</td>\n",
       "      <td>Fri</td>\n",
       "    </tr>\n",
       "  </tbody>\n",
       "</table>\n",
       "</div>"
      ],
      "text/plain": [
       "  Gender        ScheduledDay  Age      Neighbourhood  Scholarship  \\\n",
       "0      F 2016-04-29 18:38:08   62    JARDIM DA PENHA            0   \n",
       "1      M 2016-04-29 16:08:27   56    JARDIM DA PENHA            0   \n",
       "2      F 2016-04-29 16:19:04   62      MATA DA PRAIA            0   \n",
       "3      F 2016-04-29 17:29:31    8  PONTAL DE CAMBURI            0   \n",
       "4      F 2016-04-29 16:07:23   56    JARDIM DA PENHA            0   \n",
       "\n",
       "   Hypertension  Diabetes  Alcoholism  Handicap  SMS_received No-show  \\\n",
       "0             1         0           0         0             0      No   \n",
       "1             0         0           0         0             0      No   \n",
       "2             0         0           0         0             0      No   \n",
       "3             0         0           0         0             0      No   \n",
       "4             1         1           0         0             0      No   \n",
       "\n",
       "                                                Time  Hour  Month Day of Week  \n",
       "0  <built-in method time of Timestamp object at 0...    18      4         Fri  \n",
       "1  <built-in method time of Timestamp object at 0...    16      4         Fri  \n",
       "2  <built-in method time of Timestamp object at 0...    16      4         Fri  \n",
       "3  <built-in method time of Timestamp object at 0...    17      4         Fri  \n",
       "4  <built-in method time of Timestamp object at 0...    16      4         Fri  "
      ]
     },
     "execution_count": 25,
     "metadata": {},
     "output_type": "execute_result"
    }
   ],
   "source": [
    "df.head()"
   ]
  },
  {
   "cell_type": "code",
   "execution_count": 26,
   "metadata": {
    "_cell_guid": "4a6c3161-66ed-4646-b0cb-c146bedac0b6",
    "_uuid": "5bb350bc563018d8d9ee0a0d80141696424c15b9"
   },
   "outputs": [
    {
     "data": {
      "text/plain": [
       "Tue    26166\n",
       "Wed    24262\n",
       "Mon    23079\n",
       "Fri    18913\n",
       "Thu    18071\n",
       "Sat       24\n",
       "Name: Day of Week, dtype: int64"
      ]
     },
     "execution_count": 26,
     "metadata": {},
     "output_type": "execute_result"
    }
   ],
   "source": [
    "df['Day of Week'].value_counts()"
   ]
  },
  {
   "cell_type": "code",
   "execution_count": 27,
   "metadata": {
    "_cell_guid": "2b3a47f9-ebe8-4129-b939-becbe79aacf1",
    "_uuid": "14d454813f79e0e6ae1f24ceb3f724b8a69dd086"
   },
   "outputs": [
    {
     "data": {
      "text/plain": [
       "<matplotlib.axes._subplots.AxesSubplot at 0xc8ac6a0>"
      ]
     },
     "execution_count": 27,
     "metadata": {},
     "output_type": "execute_result"
    },
    {
     "data": {
      "image/png": "[encoded data removed]",
      "text/plain": [
       "<matplotlib.figure.Figure at 0xc8ac320>"
      ]
     },
     "metadata": {},
     "output_type": "display_data"
    }
   ],
   "source": [
    "sns.countplot(x='Day of Week',data=df,hue='No-show',\n",
    "              order=['Mon','Tue','Wed','Thu','Fri','Sat'],palette='viridis')"
   ]
  },
  {
   "cell_type": "code",
   "execution_count": 28,
   "metadata": {
    "_cell_guid": "348df98f-8a7d-433f-87a7-02c1fab68a1a",
    "_uuid": "bdf9112150de9fc45887c92dbc5ef8ed4f349e2c"
   },
   "outputs": [
    {
     "data": {
      "text/plain": [
       "<matplotlib.axes._subplots.AxesSubplot at 0xc870dd8>"
      ]
     },
     "execution_count": 28,
     "metadata": {},
     "output_type": "execute_result"
    },
    {
     "data": {
      "image/png": "[encoded data removed]",
      "text/plain": [
       "<matplotlib.figure.Figure at 0xc8ac6d8>"
      ]
     },
     "metadata": {},
     "output_type": "display_data"
    }
   ],
   "source": [
    "sns.countplot(x='Hour',data=df,hue='No-show',palette='viridis')"
   ]
  },
  {
   "cell_type": "code",
   "execution_count": 29,
   "metadata": {
    "_cell_guid": "ffc1881f-de7d-451a-a5b2-61de53a60862",
    "_uuid": "de44f992ae83870e0fa96b4048992d4486c08b82",
    "collapsed": true
   },
   "outputs": [],
   "source": [
    "df_time = pd.DataFrame(df['Hour'].value_counts())"
   ]
  },
  {
   "cell_type": "code",
   "execution_count": 30,
   "metadata": {
    "_cell_guid": "861e7bde-7fbd-42cf-9ea9-b3ebae896e0d",
    "_uuid": "9152cb1cc6b11a4a786ad4e4331763c407a6e499",
    "collapsed": true
   },
   "outputs": [],
   "source": [
    "df_time.sort_index(inplace=True)\n",
    "df_time.reset_index(inplace=True)\n",
    "df_time.rename(columns={'Hour':'Count','index':'Hour'},inplace=True)"
   ]
  },
  {
   "cell_type": "code",
   "execution_count": 31,
   "metadata": {
    "_cell_guid": "ad835d30-0794-41cd-a79a-67651c89ec00",
    "_uuid": "ff1176fdcbd9eb9b1c7c497f8a15aa4ef9061b58",
    "collapsed": true
   },
   "outputs": [],
   "source": [
    "df_time['No-Show Percent'] = df_time['Hour'].apply(lambda x: per_noshow(df,'Hour',x))"
   ]
  },
  {
   "cell_type": "code",
   "execution_count": 32,
   "metadata": {
    "_cell_guid": "4b8c1ee5-1f33-4be0-8b65-d4a150f0ada0",
    "_uuid": "083d18d05000821162c5b23b989b8f9fe472526b"
   },
   "outputs": [
    {
     "data": {
      "text/html": [
       "<div>\n",
       "<style>\n",
       "    .dataframe thead tr:only-child th {\n",
       "        text-align: right;\n",
       "    }\n",
       "\n",
       "    .dataframe thead th {\n",
       "        text-align: left;\n",
       "    }\n",
       "\n",
       "    .dataframe tbody tr th {\n",
       "        vertical-align: top;\n",
       "    }\n",
       "</style>\n",
       "<table border=\"1\" class=\"dataframe\">\n",
       "  <thead>\n",
       "    <tr style=\"text-align: right;\">\n",
       "      <th></th>\n",
       "      <th>Hour</th>\n",
       "      <th>Count</th>\n",
       "      <th>No-Show Percent</th>\n",
       "    </tr>\n",
       "  </thead>\n",
       "  <tbody>\n",
       "    <tr>\n",
       "      <th>0</th>\n",
       "      <td>6</td>\n",
       "      <td>1578</td>\n",
       "      <td>19.20</td>\n",
       "    </tr>\n",
       "    <tr>\n",
       "      <th>1</th>\n",
       "      <td>7</td>\n",
       "      <td>19212</td>\n",
       "      <td>15.15</td>\n",
       "    </tr>\n",
       "    <tr>\n",
       "      <th>2</th>\n",
       "      <td>8</td>\n",
       "      <td>15348</td>\n",
       "      <td>18.27</td>\n",
       "    </tr>\n",
       "    <tr>\n",
       "      <th>3</th>\n",
       "      <td>9</td>\n",
       "      <td>12819</td>\n",
       "      <td>19.69</td>\n",
       "    </tr>\n",
       "    <tr>\n",
       "      <th>4</th>\n",
       "      <td>10</td>\n",
       "      <td>11055</td>\n",
       "      <td>22.07</td>\n",
       "    </tr>\n",
       "    <tr>\n",
       "      <th>5</th>\n",
       "      <td>11</td>\n",
       "      <td>8462</td>\n",
       "      <td>22.78</td>\n",
       "    </tr>\n",
       "    <tr>\n",
       "      <th>6</th>\n",
       "      <td>12</td>\n",
       "      <td>5422</td>\n",
       "      <td>20.36</td>\n",
       "    </tr>\n",
       "    <tr>\n",
       "      <th>7</th>\n",
       "      <td>13</td>\n",
       "      <td>9036</td>\n",
       "      <td>20.93</td>\n",
       "    </tr>\n",
       "    <tr>\n",
       "      <th>8</th>\n",
       "      <td>14</td>\n",
       "      <td>9125</td>\n",
       "      <td>22.67</td>\n",
       "    </tr>\n",
       "    <tr>\n",
       "      <th>9</th>\n",
       "      <td>15</td>\n",
       "      <td>8078</td>\n",
       "      <td>23.19</td>\n",
       "    </tr>\n",
       "    <tr>\n",
       "      <th>10</th>\n",
       "      <td>16</td>\n",
       "      <td>5540</td>\n",
       "      <td>23.77</td>\n",
       "    </tr>\n",
       "    <tr>\n",
       "      <th>11</th>\n",
       "      <td>17</td>\n",
       "      <td>2909</td>\n",
       "      <td>24.82</td>\n",
       "    </tr>\n",
       "    <tr>\n",
       "      <th>12</th>\n",
       "      <td>18</td>\n",
       "      <td>1340</td>\n",
       "      <td>21.27</td>\n",
       "    </tr>\n",
       "    <tr>\n",
       "      <th>13</th>\n",
       "      <td>19</td>\n",
       "      <td>488</td>\n",
       "      <td>23.36</td>\n",
       "    </tr>\n",
       "    <tr>\n",
       "      <th>14</th>\n",
       "      <td>20</td>\n",
       "      <td>100</td>\n",
       "      <td>30.00</td>\n",
       "    </tr>\n",
       "    <tr>\n",
       "      <th>15</th>\n",
       "      <td>21</td>\n",
       "      <td>3</td>\n",
       "      <td>33.33</td>\n",
       "    </tr>\n",
       "  </tbody>\n",
       "</table>\n",
       "</div>"
      ],
      "text/plain": [
       "    Hour  Count  No-Show Percent\n",
       "0      6   1578            19.20\n",
       "1      7  19212            15.15\n",
       "2      8  15348            18.27\n",
       "3      9  12819            19.69\n",
       "4     10  11055            22.07\n",
       "5     11   8462            22.78\n",
       "6     12   5422            20.36\n",
       "7     13   9036            20.93\n",
       "8     14   9125            22.67\n",
       "9     15   8078            23.19\n",
       "10    16   5540            23.77\n",
       "11    17   2909            24.82\n",
       "12    18   1340            21.27\n",
       "13    19    488            23.36\n",
       "14    20    100            30.00\n",
       "15    21      3            33.33"
      ]
     },
     "execution_count": 32,
     "metadata": {},
     "output_type": "execute_result"
    }
   ],
   "source": [
    "df_time"
   ]
  },
  {
   "cell_type": "code",
   "execution_count": 33,
   "metadata": {
    "_cell_guid": "6aca960a-a041-40e4-abda-41b20de44fd6",
    "_uuid": "ab10ff7718f463ffdca0c1fb8b134e26ba8c0b61"
   },
   "outputs": [
    {
     "data": {
      "text/plain": [
       "<matplotlib.axes._subplots.AxesSubplot at 0xf38cc18>"
      ]
     },
     "execution_count": 33,
     "metadata": {},
     "output_type": "execute_result"
    },
    {
     "data": {
      "image/png": "[encoded data removed]",
      "text/plain": [
       "<matplotlib.figure.Figure at 0xf38c198>"
      ]
     },
     "metadata": {},
     "output_type": "display_data"
    }
   ],
   "source": [
    "plt.figure(figsize=(10,6))\n",
    "plt.xticks(rotation=45)\n",
    "sns.barplot(x='Hour',y='No-Show Percent',data=df_time,color='red')"
   ]
  },
  {
   "cell_type": "markdown",
   "metadata": {
    "_cell_guid": "86f09f09-3559-4a72-9964-feca5bd9e5fa",
    "_uuid": "753aeb518ef90d9d942143b6c011e67427cb5aa9"
   },
   "source": [
    "There is an overall trend of an increased percentage of no-show patients throughout the day. However the large increase at the end of the day is negated by there only being 3 data points at 21:00."
   ]
  },
  {
   "cell_type": "markdown",
   "metadata": {
    "_cell_guid": "252ca74c-5472-42b3-aad7-ea105a077eff",
    "_uuid": "7fcdfd31ad01306d15eec028d32a1ba4190a4d97"
   },
   "source": [
    "** Age **"
   ]
  },
  {
   "cell_type": "code",
   "execution_count": 34,
   "metadata": {
    "collapsed": true
   },
   "outputs": [],
   "source": [
    "def set_age_group(x):\n",
    "    \"\"\"Set an age range\n",
    "    \"\"\"\n",
    "    if x <=3:\n",
    "        return 'infant',0\n",
    "    elif x <=10:\n",
    "        return 'child',1\n",
    "    elif x <=18:\n",
    "        return 'adolescent',2\n",
    "    elif x <= 25:\n",
    "        return 'Young Adult',3\n",
    "    elif x <= 45:\n",
    "        return 'Adult',4\n",
    "    elif x <= 75:\n",
    "        return 'Middle Aged',5\n",
    "    else:\n",
    "        return 'Elderly',6"
   ]
  },
  {
   "cell_type": "code",
   "execution_count": 35,
   "metadata": {
    "collapsed": true
   },
   "outputs": [],
   "source": [
    "df['Age_Range'] = df['Age'].apply(lambda x: set_age_group(x))"
   ]
  },
  {
   "cell_type": "code",
   "execution_count": 36,
   "metadata": {},
   "outputs": [
    {
     "data": {
      "text/html": [
       "<div>\n",
       "<style>\n",
       "    .dataframe thead tr:only-child th {\n",
       "        text-align: right;\n",
       "    }\n",
       "\n",
       "    .dataframe thead th {\n",
       "        text-align: left;\n",
       "    }\n",
       "\n",
       "    .dataframe tbody tr th {\n",
       "        vertical-align: top;\n",
       "    }\n",
       "</style>\n",
       "<table border=\"1\" class=\"dataframe\">\n",
       "  <thead>\n",
       "    <tr style=\"text-align: right;\">\n",
       "      <th></th>\n",
       "      <th>Gender</th>\n",
       "      <th>ScheduledDay</th>\n",
       "      <th>Age</th>\n",
       "      <th>Neighbourhood</th>\n",
       "      <th>Scholarship</th>\n",
       "      <th>Hypertension</th>\n",
       "      <th>Diabetes</th>\n",
       "      <th>Alcoholism</th>\n",
       "      <th>Handicap</th>\n",
       "      <th>SMS_received</th>\n",
       "      <th>No-show</th>\n",
       "      <th>Time</th>\n",
       "      <th>Hour</th>\n",
       "      <th>Month</th>\n",
       "      <th>Day of Week</th>\n",
       "      <th>Age_Range</th>\n",
       "    </tr>\n",
       "  </thead>\n",
       "  <tbody>\n",
       "    <tr>\n",
       "      <th>0</th>\n",
       "      <td>F</td>\n",
       "      <td>2016-04-29 18:38:08</td>\n",
       "      <td>62</td>\n",
       "      <td>JARDIM DA PENHA</td>\n",
       "      <td>0</td>\n",
       "      <td>1</td>\n",
       "      <td>0</td>\n",
       "      <td>0</td>\n",
       "      <td>0</td>\n",
       "      <td>0</td>\n",
       "      <td>No</td>\n",
       "      <td>&lt;built-in method time of Timestamp object at 0...</td>\n",
       "      <td>18</td>\n",
       "      <td>4</td>\n",
       "      <td>Fri</td>\n",
       "      <td>(Middle Aged, 5)</td>\n",
       "    </tr>\n",
       "    <tr>\n",
       "      <th>1</th>\n",
       "      <td>M</td>\n",
       "      <td>2016-04-29 16:08:27</td>\n",
       "      <td>56</td>\n",
       "      <td>JARDIM DA PENHA</td>\n",
       "      <td>0</td>\n",
       "      <td>0</td>\n",
       "      <td>0</td>\n",
       "      <td>0</td>\n",
       "      <td>0</td>\n",
       "      <td>0</td>\n",
       "      <td>No</td>\n",
       "      <td>&lt;built-in method time of Timestamp object at 0...</td>\n",
       "      <td>16</td>\n",
       "      <td>4</td>\n",
       "      <td>Fri</td>\n",
       "      <td>(Middle Aged, 5)</td>\n",
       "    </tr>\n",
       "    <tr>\n",
       "      <th>2</th>\n",
       "      <td>F</td>\n",
       "      <td>2016-04-29 16:19:04</td>\n",
       "      <td>62</td>\n",
       "      <td>MATA DA PRAIA</td>\n",
       "      <td>0</td>\n",
       "      <td>0</td>\n",
       "      <td>0</td>\n",
       "      <td>0</td>\n",
       "      <td>0</td>\n",
       "      <td>0</td>\n",
       "      <td>No</td>\n",
       "      <td>&lt;built-in method time of Timestamp object at 0...</td>\n",
       "      <td>16</td>\n",
       "      <td>4</td>\n",
       "      <td>Fri</td>\n",
       "      <td>(Middle Aged, 5)</td>\n",
       "    </tr>\n",
       "    <tr>\n",
       "      <th>3</th>\n",
       "      <td>F</td>\n",
       "      <td>2016-04-29 17:29:31</td>\n",
       "      <td>8</td>\n",
       "      <td>PONTAL DE CAMBURI</td>\n",
       "      <td>0</td>\n",
       "      <td>0</td>\n",
       "      <td>0</td>\n",
       "      <td>0</td>\n",
       "      <td>0</td>\n",
       "      <td>0</td>\n",
       "      <td>No</td>\n",
       "      <td>&lt;built-in method time of Timestamp object at 0...</td>\n",
       "      <td>17</td>\n",
       "      <td>4</td>\n",
       "      <td>Fri</td>\n",
       "      <td>(child, 1)</td>\n",
       "    </tr>\n",
       "    <tr>\n",
       "      <th>4</th>\n",
       "      <td>F</td>\n",
       "      <td>2016-04-29 16:07:23</td>\n",
       "      <td>56</td>\n",
       "      <td>JARDIM DA PENHA</td>\n",
       "      <td>0</td>\n",
       "      <td>1</td>\n",
       "      <td>1</td>\n",
       "      <td>0</td>\n",
       "      <td>0</td>\n",
       "      <td>0</td>\n",
       "      <td>No</td>\n",
       "      <td>&lt;built-in method time of Timestamp object at 0...</td>\n",
       "      <td>16</td>\n",
       "      <td>4</td>\n",
       "      <td>Fri</td>\n",
       "      <td>(Middle Aged, 5)</td>\n",
       "    </tr>\n",
       "  </tbody>\n",
       "</table>\n",
       "</div>"
      ],
      "text/plain": [
       "  Gender        ScheduledDay  Age      Neighbourhood  Scholarship  \\\n",
       "0      F 2016-04-29 18:38:08   62    JARDIM DA PENHA            0   \n",
       "1      M 2016-04-29 16:08:27   56    JARDIM DA PENHA            0   \n",
       "2      F 2016-04-29 16:19:04   62      MATA DA PRAIA            0   \n",
       "3      F 2016-04-29 17:29:31    8  PONTAL DE CAMBURI            0   \n",
       "4      F 2016-04-29 16:07:23   56    JARDIM DA PENHA            0   \n",
       "\n",
       "   Hypertension  Diabetes  Alcoholism  Handicap  SMS_received No-show  \\\n",
       "0             1         0           0         0             0      No   \n",
       "1             0         0           0         0             0      No   \n",
       "2             0         0           0         0             0      No   \n",
       "3             0         0           0         0             0      No   \n",
       "4             1         1           0         0             0      No   \n",
       "\n",
       "                                                Time  Hour  Month Day of Week  \\\n",
       "0  <built-in method time of Timestamp object at 0...    18      4         Fri   \n",
       "1  <built-in method time of Timestamp object at 0...    16      4         Fri   \n",
       "2  <built-in method time of Timestamp object at 0...    16      4         Fri   \n",
       "3  <built-in method time of Timestamp object at 0...    17      4         Fri   \n",
       "4  <built-in method time of Timestamp object at 0...    16      4         Fri   \n",
       "\n",
       "          Age_Range  \n",
       "0  (Middle Aged, 5)  \n",
       "1  (Middle Aged, 5)  \n",
       "2  (Middle Aged, 5)  \n",
       "3        (child, 1)  \n",
       "4  (Middle Aged, 5)  "
      ]
     },
     "execution_count": 36,
     "metadata": {},
     "output_type": "execute_result"
    }
   ],
   "source": [
    "df.head()"
   ]
  },
  {
   "cell_type": "code",
   "execution_count": 37,
   "metadata": {},
   "outputs": [
    {
     "data": {
      "text/plain": [
       "(Middle Aged, 5)    37549\n",
       "(Adult, 4)          28986\n",
       "(adolescent, 2)     10117\n",
       "(child, 1)           9806\n",
       "(Young Adult, 3)     9733\n",
       "(infant, 0)          8943\n",
       "(Elderly, 6)         5381\n",
       "Name: Age_Range, dtype: int64"
      ]
     },
     "execution_count": 37,
     "metadata": {},
     "output_type": "execute_result"
    }
   ],
   "source": [
    "df['Age_Range'].value_counts()"
   ]
  },
  {
   "cell_type": "code",
   "execution_count": 38,
   "metadata": {
    "_cell_guid": "ecdab85e-9db8-4a30-8417-7c96a841f274",
    "_uuid": "0b0aeb23e7db35f5640a9c1bc71645e1bcfafb88",
    "collapsed": true
   },
   "outputs": [],
   "source": [
    "# Create a DataFrame with value counts of patients ages\n",
    "df_ages = pd.DataFrame(df['Age_Range'].value_counts())"
   ]
  },
  {
   "cell_type": "code",
   "execution_count": 39,
   "metadata": {
    "collapsed": true
   },
   "outputs": [],
   "source": [
    "# Clean up DataFrame\n",
    "df_ages.reset_index(inplace=True)\n",
    "df_ages['Description'],df_ages['Rank'] = zip(*df_ages['index'])\n",
    "df_ages.set_index('Rank',inplace=True)\n",
    "df_ages.sort_index(inplace=True)\n",
    "df_ages.rename(columns={'Age_Range':'Count'},inplace=True)"
   ]
  },
  {
   "cell_type": "code",
   "execution_count": 40,
   "metadata": {
    "_cell_guid": "e9ef5394-47ac-4e75-a295-3c858d699cf7",
    "_uuid": "89ead3d5c2398b20be69a3d0ed17ec1dc69c07b1"
   },
   "outputs": [
    {
     "data": {
      "text/html": [
       "<div>\n",
       "<style>\n",
       "    .dataframe thead tr:only-child th {\n",
       "        text-align: right;\n",
       "    }\n",
       "\n",
       "    .dataframe thead th {\n",
       "        text-align: left;\n",
       "    }\n",
       "\n",
       "    .dataframe tbody tr th {\n",
       "        vertical-align: top;\n",
       "    }\n",
       "</style>\n",
       "<table border=\"1\" class=\"dataframe\">\n",
       "  <thead>\n",
       "    <tr style=\"text-align: right;\">\n",
       "      <th></th>\n",
       "      <th>index</th>\n",
       "      <th>Count</th>\n",
       "      <th>Description</th>\n",
       "    </tr>\n",
       "    <tr>\n",
       "      <th>Rank</th>\n",
       "      <th></th>\n",
       "      <th></th>\n",
       "      <th></th>\n",
       "    </tr>\n",
       "  </thead>\n",
       "  <tbody>\n",
       "    <tr>\n",
       "      <th>0</th>\n",
       "      <td>(infant, 0)</td>\n",
       "      <td>8943</td>\n",
       "      <td>infant</td>\n",
       "    </tr>\n",
       "    <tr>\n",
       "      <th>1</th>\n",
       "      <td>(child, 1)</td>\n",
       "      <td>9806</td>\n",
       "      <td>child</td>\n",
       "    </tr>\n",
       "    <tr>\n",
       "      <th>2</th>\n",
       "      <td>(adolescent, 2)</td>\n",
       "      <td>10117</td>\n",
       "      <td>adolescent</td>\n",
       "    </tr>\n",
       "    <tr>\n",
       "      <th>3</th>\n",
       "      <td>(Young Adult, 3)</td>\n",
       "      <td>9733</td>\n",
       "      <td>Young Adult</td>\n",
       "    </tr>\n",
       "    <tr>\n",
       "      <th>4</th>\n",
       "      <td>(Adult, 4)</td>\n",
       "      <td>28986</td>\n",
       "      <td>Adult</td>\n",
       "    </tr>\n",
       "    <tr>\n",
       "      <th>5</th>\n",
       "      <td>(Middle Aged, 5)</td>\n",
       "      <td>37549</td>\n",
       "      <td>Middle Aged</td>\n",
       "    </tr>\n",
       "    <tr>\n",
       "      <th>6</th>\n",
       "      <td>(Elderly, 6)</td>\n",
       "      <td>5381</td>\n",
       "      <td>Elderly</td>\n",
       "    </tr>\n",
       "  </tbody>\n",
       "</table>\n",
       "</div>"
      ],
      "text/plain": [
       "                 index  Count  Description\n",
       "Rank                                      \n",
       "0          (infant, 0)   8943       infant\n",
       "1           (child, 1)   9806        child\n",
       "2      (adolescent, 2)  10117   adolescent\n",
       "3     (Young Adult, 3)   9733  Young Adult\n",
       "4           (Adult, 4)  28986        Adult\n",
       "5     (Middle Aged, 5)  37549  Middle Aged\n",
       "6         (Elderly, 6)   5381      Elderly"
      ]
     },
     "execution_count": 40,
     "metadata": {},
     "output_type": "execute_result"
    }
   ],
   "source": [
    "df_ages"
   ]
  },
  {
   "cell_type": "code",
   "execution_count": 41,
   "metadata": {
    "_cell_guid": "4d2b19bb-5eb0-4c1d-9010-3692679a41a9",
    "_uuid": "a18d5f94bafbe2fd247a1b3ee982a737e8a39ddb",
    "collapsed": true
   },
   "outputs": [],
   "source": [
    "# Add a column of the percentage of patients No-show\n",
    "df_ages['No-Show Percent'] = df_ages['index'].apply(lambda x: per_noshow(df,'Age_Range',x))"
   ]
  },
  {
   "cell_type": "code",
   "execution_count": 42,
   "metadata": {
    "_cell_guid": "3529be6b-0cd9-4b50-8454-57caf0e00f20",
    "_uuid": "b07a83556287c7be8ce73e3451f4ab360f241ad4"
   },
   "outputs": [
    {
     "data": {
      "text/html": [
       "<div>\n",
       "<style>\n",
       "    .dataframe thead tr:only-child th {\n",
       "        text-align: right;\n",
       "    }\n",
       "\n",
       "    .dataframe thead th {\n",
       "        text-align: left;\n",
       "    }\n",
       "\n",
       "    .dataframe tbody tr th {\n",
       "        vertical-align: top;\n",
       "    }\n",
       "</style>\n",
       "<table border=\"1\" class=\"dataframe\">\n",
       "  <thead>\n",
       "    <tr style=\"text-align: right;\">\n",
       "      <th></th>\n",
       "      <th>index</th>\n",
       "      <th>Count</th>\n",
       "      <th>Description</th>\n",
       "      <th>No-Show Percent</th>\n",
       "    </tr>\n",
       "    <tr>\n",
       "      <th>Rank</th>\n",
       "      <th></th>\n",
       "      <th></th>\n",
       "      <th></th>\n",
       "      <th></th>\n",
       "    </tr>\n",
       "  </thead>\n",
       "  <tbody>\n",
       "    <tr>\n",
       "      <th>0</th>\n",
       "      <td>(infant, 0)</td>\n",
       "      <td>8943</td>\n",
       "      <td>infant</td>\n",
       "      <td>17.70</td>\n",
       "    </tr>\n",
       "    <tr>\n",
       "      <th>1</th>\n",
       "      <td>(child, 1)</td>\n",
       "      <td>9806</td>\n",
       "      <td>child</td>\n",
       "      <td>22.49</td>\n",
       "    </tr>\n",
       "    <tr>\n",
       "      <th>2</th>\n",
       "      <td>(adolescent, 2)</td>\n",
       "      <td>10117</td>\n",
       "      <td>adolescent</td>\n",
       "      <td>25.29</td>\n",
       "    </tr>\n",
       "    <tr>\n",
       "      <th>3</th>\n",
       "      <td>(Young Adult, 3)</td>\n",
       "      <td>9733</td>\n",
       "      <td>Young Adult</td>\n",
       "      <td>25.39</td>\n",
       "    </tr>\n",
       "    <tr>\n",
       "      <th>4</th>\n",
       "      <td>(Adult, 4)</td>\n",
       "      <td>28986</td>\n",
       "      <td>Adult</td>\n",
       "      <td>21.96</td>\n",
       "    </tr>\n",
       "  </tbody>\n",
       "</table>\n",
       "</div>"
      ],
      "text/plain": [
       "                 index  Count  Description  No-Show Percent\n",
       "Rank                                                       \n",
       "0          (infant, 0)   8943       infant            17.70\n",
       "1           (child, 1)   9806        child            22.49\n",
       "2      (adolescent, 2)  10117   adolescent            25.29\n",
       "3     (Young Adult, 3)   9733  Young Adult            25.39\n",
       "4           (Adult, 4)  28986        Adult            21.96"
      ]
     },
     "execution_count": 42,
     "metadata": {},
     "output_type": "execute_result"
    }
   ],
   "source": [
    "df_ages.head()"
   ]
  },
  {
   "cell_type": "code",
   "execution_count": 43,
   "metadata": {
    "_cell_guid": "64743f40-4b3b-47e6-8196-5ce5c48de902",
    "_uuid": "89e2bfc32469803165b6770ebf0fc136933cfd9f"
   },
   "outputs": [
    {
     "data": {
      "text/html": [
       "<div>\n",
       "<style>\n",
       "    .dataframe thead tr:only-child th {\n",
       "        text-align: right;\n",
       "    }\n",
       "\n",
       "    .dataframe thead th {\n",
       "        text-align: left;\n",
       "    }\n",
       "\n",
       "    .dataframe tbody tr th {\n",
       "        vertical-align: top;\n",
       "    }\n",
       "</style>\n",
       "<table border=\"1\" class=\"dataframe\">\n",
       "  <thead>\n",
       "    <tr style=\"text-align: right;\">\n",
       "      <th></th>\n",
       "      <th>Count</th>\n",
       "      <th>No-Show Percent</th>\n",
       "    </tr>\n",
       "  </thead>\n",
       "  <tbody>\n",
       "    <tr>\n",
       "      <th>count</th>\n",
       "      <td>7.000000</td>\n",
       "      <td>7.000000</td>\n",
       "    </tr>\n",
       "    <tr>\n",
       "      <th>mean</th>\n",
       "      <td>15787.857143</td>\n",
       "      <td>20.804286</td>\n",
       "    </tr>\n",
       "    <tr>\n",
       "      <th>std</th>\n",
       "      <td>12298.343986</td>\n",
       "      <td>3.956597</td>\n",
       "    </tr>\n",
       "    <tr>\n",
       "      <th>min</th>\n",
       "      <td>5381.000000</td>\n",
       "      <td>16.110000</td>\n",
       "    </tr>\n",
       "    <tr>\n",
       "      <th>25%</th>\n",
       "      <td>9338.000000</td>\n",
       "      <td>17.195000</td>\n",
       "    </tr>\n",
       "    <tr>\n",
       "      <th>50%</th>\n",
       "      <td>9806.000000</td>\n",
       "      <td>21.960000</td>\n",
       "    </tr>\n",
       "    <tr>\n",
       "      <th>75%</th>\n",
       "      <td>19551.500000</td>\n",
       "      <td>23.890000</td>\n",
       "    </tr>\n",
       "    <tr>\n",
       "      <th>max</th>\n",
       "      <td>37549.000000</td>\n",
       "      <td>25.390000</td>\n",
       "    </tr>\n",
       "  </tbody>\n",
       "</table>\n",
       "</div>"
      ],
      "text/plain": [
       "              Count  No-Show Percent\n",
       "count      7.000000         7.000000\n",
       "mean   15787.857143        20.804286\n",
       "std    12298.343986         3.956597\n",
       "min     5381.000000        16.110000\n",
       "25%     9338.000000        17.195000\n",
       "50%     9806.000000        21.960000\n",
       "75%    19551.500000        23.890000\n",
       "max    37549.000000        25.390000"
      ]
     },
     "execution_count": 43,
     "metadata": {},
     "output_type": "execute_result"
    }
   ],
   "source": [
    "df_ages.describe()"
   ]
  },
  {
   "cell_type": "code",
   "execution_count": 44,
   "metadata": {
    "_cell_guid": "dae51430-f78d-44c5-9c21-fde581bd52bf",
    "_uuid": "88ca4948e75861798bba96eafb22dc7198917f2a"
   },
   "outputs": [
    {
     "data": {
      "text/plain": [
       "<matplotlib.axes._subplots.AxesSubplot at 0xf38c9e8>"
      ]
     },
     "execution_count": 44,
     "metadata": {},
     "output_type": "execute_result"
    },
    {
     "data": {
      "image/png": "[encoded data removed]",
      "text/plain": [
       "<matplotlib.figure.Figure at 0xc5e6160>"
      ]
     },
     "metadata": {},
     "output_type": "display_data"
    }
   ],
   "source": [
    "plt.figure(figsize=(12,6))\n",
    "plt.xticks(rotation=45)\n",
    "sns.barplot(x='Description',y='No-Show Percent',data=df_ages,color='red')"
   ]
  },
  {
   "cell_type": "markdown",
   "metadata": {
    "_cell_guid": "6593966a-6e0a-41f5-8747-4244d4853f09",
    "_uuid": "e2323e278570f9de1f6ba1e4cab531e080b13175"
   },
   "source": [
    "Adolescents and young adults are increasingly likely to miss appointments. This makes sense as younger children will probably be brought by their parents. The percentage then decreases with age."
   ]
  },
  {
   "cell_type": "markdown",
   "metadata": {
    "_cell_guid": "1aa06be4-277e-444d-bcc5-9d9cf4cee3cd",
    "_uuid": "efbf51a44de5f54dfa5cf6bd75e3f3e917bd5f63"
   },
   "source": [
    "It may be of interest to analyse if there are any differences between patients gender with respect to their age."
   ]
  },
  {
   "cell_type": "code",
   "execution_count": 45,
   "metadata": {
    "_cell_guid": "1c54ba46-4e8e-431d-b789-9c7cd6cd6caa",
    "_uuid": "08a36317f77884bede65f0d957697d32f53d66d8",
    "collapsed": true
   },
   "outputs": [],
   "source": [
    "# Create a DataFrame with just male patients\n",
    "df_ages_M_initial = df[df['Gender']=='M']\n",
    "#Apply same processing as previosuly\n",
    "df_ages_M = pd.DataFrame(df_ages_M_initial['Age'].value_counts())\n",
    "df_ages_M.sort_index(inplace=True)\n",
    "df_ages_M.reset_index(inplace=True)\n",
    "df_ages_M.rename(columns={'Age':'Male','index':'Age'},inplace=True)\n",
    "df_ages_M['No-Show Percent Male'] = df_ages_M['Age'].apply(lambda x: per_noshow(df_ages_M_initial,'Age',x))\n"
   ]
  },
  {
   "cell_type": "code",
   "execution_count": 46,
   "metadata": {
    "_cell_guid": "11235466-849a-4f33-84ce-7bc1b72c9b62",
    "_uuid": "028c678d131f098e0143e88fa897250f7bd51855"
   },
   "outputs": [
    {
     "data": {
      "text/html": [
       "<div>\n",
       "<style>\n",
       "    .dataframe thead tr:only-child th {\n",
       "        text-align: right;\n",
       "    }\n",
       "\n",
       "    .dataframe thead th {\n",
       "        text-align: left;\n",
       "    }\n",
       "\n",
       "    .dataframe tbody tr th {\n",
       "        vertical-align: top;\n",
       "    }\n",
       "</style>\n",
       "<table border=\"1\" class=\"dataframe\">\n",
       "  <thead>\n",
       "    <tr style=\"text-align: right;\">\n",
       "      <th></th>\n",
       "      <th>Age</th>\n",
       "      <th>Male</th>\n",
       "      <th>No-Show Percent Male</th>\n",
       "    </tr>\n",
       "  </thead>\n",
       "  <tbody>\n",
       "    <tr>\n",
       "      <th>0</th>\n",
       "      <td>0</td>\n",
       "      <td>1818</td>\n",
       "      <td>17.60</td>\n",
       "    </tr>\n",
       "    <tr>\n",
       "      <th>1</th>\n",
       "      <td>1</td>\n",
       "      <td>1185</td>\n",
       "      <td>17.97</td>\n",
       "    </tr>\n",
       "    <tr>\n",
       "      <th>2</th>\n",
       "      <td>2</td>\n",
       "      <td>861</td>\n",
       "      <td>16.38</td>\n",
       "    </tr>\n",
       "    <tr>\n",
       "      <th>3</th>\n",
       "      <td>3</td>\n",
       "      <td>749</td>\n",
       "      <td>17.89</td>\n",
       "    </tr>\n",
       "    <tr>\n",
       "      <th>4</th>\n",
       "      <td>4</td>\n",
       "      <td>682</td>\n",
       "      <td>20.97</td>\n",
       "    </tr>\n",
       "  </tbody>\n",
       "</table>\n",
       "</div>"
      ],
      "text/plain": [
       "   Age  Male  No-Show Percent Male\n",
       "0    0  1818                 17.60\n",
       "1    1  1185                 17.97\n",
       "2    2   861                 16.38\n",
       "3    3   749                 17.89\n",
       "4    4   682                 20.97"
      ]
     },
     "execution_count": 46,
     "metadata": {},
     "output_type": "execute_result"
    }
   ],
   "source": [
    "df_ages_M.head()"
   ]
  },
  {
   "cell_type": "code",
   "execution_count": 47,
   "metadata": {
    "_cell_guid": "b66f49c5-66cf-43a5-8dc2-f1cea87fa503",
    "_uuid": "0400247ac4f1912d63543eadfb12c41ae68293b6",
    "collapsed": true
   },
   "outputs": [],
   "source": [
    "# Do the same for female patients\n",
    "df_ages_F_initial = df[df['Gender']=='F']\n",
    "df_ages_F = pd.DataFrame(df_ages_F_initial['Age'].value_counts())\n",
    "df_ages_F.sort_index(inplace=True)\n",
    "df_ages_F.reset_index(inplace=True)\n",
    "df_ages_F.rename(columns={'Age':'Female','index':'Age'},inplace=True)\n",
    "df_ages_F['No-Show Percent Female'] = df_ages_F['Age'].apply(lambda x: per_noshow(df_ages_F_initial,'Age',x))"
   ]
  },
  {
   "cell_type": "code",
   "execution_count": 48,
   "metadata": {
    "_cell_guid": "1b953f94-e5de-4bab-94cd-ee5ee5260f6c",
    "_uuid": "bd824cfec859e75d266a8f6194e246a960227696"
   },
   "outputs": [
    {
     "data": {
      "text/html": [
       "<div>\n",
       "<style>\n",
       "    .dataframe thead tr:only-child th {\n",
       "        text-align: right;\n",
       "    }\n",
       "\n",
       "    .dataframe thead th {\n",
       "        text-align: left;\n",
       "    }\n",
       "\n",
       "    .dataframe tbody tr th {\n",
       "        vertical-align: top;\n",
       "    }\n",
       "</style>\n",
       "<table border=\"1\" class=\"dataframe\">\n",
       "  <thead>\n",
       "    <tr style=\"text-align: right;\">\n",
       "      <th></th>\n",
       "      <th>Age</th>\n",
       "      <th>Female</th>\n",
       "      <th>No-Show Percent Female</th>\n",
       "    </tr>\n",
       "  </thead>\n",
       "  <tbody>\n",
       "    <tr>\n",
       "      <th>0</th>\n",
       "      <td>0</td>\n",
       "      <td>1721</td>\n",
       "      <td>18.54</td>\n",
       "    </tr>\n",
       "    <tr>\n",
       "      <th>1</th>\n",
       "      <td>1</td>\n",
       "      <td>1088</td>\n",
       "      <td>18.57</td>\n",
       "    </tr>\n",
       "    <tr>\n",
       "      <th>2</th>\n",
       "      <td>2</td>\n",
       "      <td>757</td>\n",
       "      <td>14.66</td>\n",
       "    </tr>\n",
       "    <tr>\n",
       "      <th>3</th>\n",
       "      <td>3</td>\n",
       "      <td>764</td>\n",
       "      <td>18.72</td>\n",
       "    </tr>\n",
       "    <tr>\n",
       "      <th>4</th>\n",
       "      <td>4</td>\n",
       "      <td>617</td>\n",
       "      <td>22.53</td>\n",
       "    </tr>\n",
       "  </tbody>\n",
       "</table>\n",
       "</div>"
      ],
      "text/plain": [
       "   Age  Female  No-Show Percent Female\n",
       "0    0    1721                   18.54\n",
       "1    1    1088                   18.57\n",
       "2    2     757                   14.66\n",
       "3    3     764                   18.72\n",
       "4    4     617                   22.53"
      ]
     },
     "execution_count": 48,
     "metadata": {},
     "output_type": "execute_result"
    }
   ],
   "source": [
    "df_ages_F.head()\n"
   ]
  },
  {
   "cell_type": "code",
   "execution_count": 49,
   "metadata": {
    "_cell_guid": "053e205e-f186-4451-b548-36c340f741e4",
    "_uuid": "2911348aeee7f0540419779179c20e4ad5f44dbd",
    "collapsed": true
   },
   "outputs": [],
   "source": [
    "df_ages_Combined = df_ages_F.merge(df_ages_M,on='Age')"
   ]
  },
  {
   "cell_type": "code",
   "execution_count": 50,
   "metadata": {
    "_cell_guid": "48cc8220-69f7-4020-b28b-e48e42282deb",
    "_uuid": "5c68fcb5b773775d1ca014fea4923b252b91bfec"
   },
   "outputs": [
    {
     "data": {
      "text/html": [
       "<div>\n",
       "<style>\n",
       "    .dataframe thead tr:only-child th {\n",
       "        text-align: right;\n",
       "    }\n",
       "\n",
       "    .dataframe thead th {\n",
       "        text-align: left;\n",
       "    }\n",
       "\n",
       "    .dataframe tbody tr th {\n",
       "        vertical-align: top;\n",
       "    }\n",
       "</style>\n",
       "<table border=\"1\" class=\"dataframe\">\n",
       "  <thead>\n",
       "    <tr style=\"text-align: right;\">\n",
       "      <th></th>\n",
       "      <th>Age</th>\n",
       "      <th>Female</th>\n",
       "      <th>No-Show Percent Female</th>\n",
       "      <th>Male</th>\n",
       "      <th>No-Show Percent Male</th>\n",
       "    </tr>\n",
       "  </thead>\n",
       "  <tbody>\n",
       "    <tr>\n",
       "      <th>0</th>\n",
       "      <td>0</td>\n",
       "      <td>1721</td>\n",
       "      <td>18.54</td>\n",
       "      <td>1818</td>\n",
       "      <td>17.60</td>\n",
       "    </tr>\n",
       "    <tr>\n",
       "      <th>1</th>\n",
       "      <td>1</td>\n",
       "      <td>1088</td>\n",
       "      <td>18.57</td>\n",
       "      <td>1185</td>\n",
       "      <td>17.97</td>\n",
       "    </tr>\n",
       "    <tr>\n",
       "      <th>2</th>\n",
       "      <td>2</td>\n",
       "      <td>757</td>\n",
       "      <td>14.66</td>\n",
       "      <td>861</td>\n",
       "      <td>16.38</td>\n",
       "    </tr>\n",
       "    <tr>\n",
       "      <th>3</th>\n",
       "      <td>3</td>\n",
       "      <td>764</td>\n",
       "      <td>18.72</td>\n",
       "      <td>749</td>\n",
       "      <td>17.89</td>\n",
       "    </tr>\n",
       "    <tr>\n",
       "      <th>4</th>\n",
       "      <td>4</td>\n",
       "      <td>617</td>\n",
       "      <td>22.53</td>\n",
       "      <td>682</td>\n",
       "      <td>20.97</td>\n",
       "    </tr>\n",
       "  </tbody>\n",
       "</table>\n",
       "</div>"
      ],
      "text/plain": [
       "   Age  Female  No-Show Percent Female  Male  No-Show Percent Male\n",
       "0    0    1721                   18.54  1818                 17.60\n",
       "1    1    1088                   18.57  1185                 17.97\n",
       "2    2     757                   14.66   861                 16.38\n",
       "3    3     764                   18.72   749                 17.89\n",
       "4    4     617                   22.53   682                 20.97"
      ]
     },
     "execution_count": 50,
     "metadata": {},
     "output_type": "execute_result"
    }
   ],
   "source": [
    "df_ages_Combined.head()"
   ]
  },
  {
   "cell_type": "code",
   "execution_count": 51,
   "metadata": {
    "_cell_guid": "6c803413-8eee-4f48-b418-5e509ec3b6ab",
    "_uuid": "6cb06bd619164c7affe38dba50443e3bf8a5e7e0"
   },
   "outputs": [
    {
     "data": {
      "text/plain": [
       "<matplotlib.axes._subplots.AxesSubplot at 0xd67d550>"
      ]
     },
     "execution_count": 51,
     "metadata": {},
     "output_type": "execute_result"
    },
    {
     "data": {
      "text/plain": [
       "<matplotlib.figure.Figure at 0xd74aeb8>"
      ]
     },
     "metadata": {},
     "output_type": "display_data"
    },
    {
     "data": {
      "image/png": "[encoded data removed]",
      "text/plain": [
       "<matplotlib.figure.Figure at 0xd688240>"
      ]
     },
     "metadata": {},
     "output_type": "display_data"
    }
   ],
   "source": [
    "plt.figure(figsize=(20,5))\n",
    "ax = df_ages_Combined.plot(x='Age',y='No-Show Percent Female',figsize=(18,6),kind='bar',color='red')\n",
    "df_ages_Combined.plot(x='Age',y='No-Show Percent Male',ax=ax,kind='bar',color='blue')"
   ]
  },
  {
   "cell_type": "markdown",
   "metadata": {
    "_cell_guid": "72a35f57-9489-4ce8-adef-1ecaf32e2937",
    "_uuid": "b013e4df09c748e7a75c7110101131d3a5a96961"
   },
   "source": [
    "Younger men tend to have a higher percentage of No-Show than younger Women and, older Women tend to have a higher percentage than Older Men and it appears that Men tend to have a higher No-show percentage than women. Lets put some numbers to this though."
   ]
  },
  {
   "cell_type": "code",
   "execution_count": 52,
   "metadata": {
    "_cell_guid": "da84df75-0ba8-48b3-9eca-9791910b90ff",
    "_uuid": "d6490d421859c26e20718e21580a401e95628d43",
    "collapsed": true
   },
   "outputs": [],
   "source": [
    "# Add a new column to assess whether \n",
    "df_ages_Combined['Higher or Lower'] = df_ages_Combined['Age'].apply(lambda x : \n",
    "    df_ages_Combined['No-Show Percent Male'].loc[x]-df_ages_Combined['No-Show Percent Female'].iloc[x])"
   ]
  },
  {
   "cell_type": "code",
   "execution_count": 53,
   "metadata": {
    "_cell_guid": "8cdacdf9-d6bf-4503-b1b3-8e363e78d0f2",
    "_uuid": "6fe21b6b17733bb913233f1604432461bc6a7a11",
    "collapsed": true
   },
   "outputs": [],
   "source": [
    "# Define a function to return whether number is positive or negative.\n",
    "def M_or_F(x):\n",
    "    \"\"\"if x is positve return male, if negative return female\n",
    "    \"\"\"\n",
    "    if x > 0:\n",
    "        return 'M'\n",
    "    elif x == 0:\n",
    "        return 'N'\n",
    "    else:\n",
    "        return 'F'"
   ]
  },
  {
   "cell_type": "code",
   "execution_count": 54,
   "metadata": {
    "_cell_guid": "c6e12ce1-5a51-4680-a9db-7aac6b9575e5",
    "_uuid": "0337ea269b74414fbb7133f9d33d2525e4fbc774",
    "collapsed": true
   },
   "outputs": [],
   "source": [
    "df_ages_Combined['Higher or Lower Bin'] = df_ages_Combined['Higher or Lower'].apply(lambda x : M_or_F(x))"
   ]
  },
  {
   "cell_type": "code",
   "execution_count": 55,
   "metadata": {
    "_cell_guid": "c7f71d6c-e712-4aa9-849d-e3c45c2233ac",
    "_uuid": "25bd931aab3d1cefc2fc1532cf55948aeac56854"
   },
   "outputs": [
    {
     "data": {
      "text/plain": [
       "F    58\n",
       "M    41\n",
       "Name: Higher or Lower Bin, dtype: int64"
      ]
     },
     "execution_count": 55,
     "metadata": {},
     "output_type": "execute_result"
    }
   ],
   "source": [
    "df_ages_Combined['Higher or Lower Bin'].value_counts()"
   ]
  },
  {
   "cell_type": "markdown",
   "metadata": {
    "_cell_guid": "574e7263-b93f-40c1-8f43-fe5dcf6fbea1",
    "_uuid": "c4af70bcb547c70a7488c2283eedb4aef4b35961"
   },
   "source": [
    "Interestingly this shows that Women overall have more ages where they have a greater percentage of No-Shows than Men. Now lets see what the differences are in young adults and middle age patients, using the arbitrary separations used earlier."
   ]
  },
  {
   "cell_type": "code",
   "execution_count": 56,
   "metadata": {
    "_cell_guid": "1a170609-af87-4900-a7d9-7c2ef70cdc99",
    "_uuid": "2b3795e9ba174885eda363701943fab11ac2136c"
   },
   "outputs": [
    {
     "data": {
      "text/plain": [
       "M    4\n",
       "F    4\n",
       "Name: Higher or Lower Bin, dtype: int64"
      ]
     },
     "execution_count": 56,
     "metadata": {},
     "output_type": "execute_result"
    }
   ],
   "source": [
    "df_ages_Combined['Higher or Lower Bin'].loc[18:25].value_counts()"
   ]
  },
  {
   "cell_type": "code",
   "execution_count": 57,
   "metadata": {
    "_cell_guid": "851ee00a-fbf4-4841-8311-a7cdb6ca14ff",
    "_uuid": "c6dcbf97da90aeecdc7fde557a58da7f8541a280"
   },
   "outputs": [
    {
     "data": {
      "text/plain": [
       "F    21\n",
       "M    10\n",
       "Name: Higher or Lower Bin, dtype: int64"
      ]
     },
     "execution_count": 57,
     "metadata": {},
     "output_type": "execute_result"
    }
   ],
   "source": [
    "df_ages_Combined['Higher or Lower Bin'].loc[45:75].value_counts()"
   ]
  },
  {
   "cell_type": "markdown",
   "metadata": {
    "_cell_guid": "190cefb0-d888-4f01-82af-fabfd710f87e",
    "_uuid": "8edde6effaff0394593dd740e5a74a0329400abf"
   },
   "source": [
    "There is no difference between the two sexes for young adults, however middle age women have more ages where they have a higher percentage of No-shows compared to men."
   ]
  },
  {
   "cell_type": "markdown",
   "metadata": {
    "_cell_guid": "6915496e-47a5-4be0-87e1-5e9695800fd0",
    "_uuid": "6e066ccca85c720bdbbe99096192648c8f58d820"
   },
   "source": [
    "## Conclusions"
   ]
  },
  {
   "cell_type": "markdown",
   "metadata": {
    "_cell_guid": "516880d1-bb2a-4093-94bb-0a9388570795",
    "_uuid": "0617ee0727a8871c0e951204a15da55db3e3aa0d"
   },
   "source": [
    "- Patients with scholarships appeared to have a higher percentage of not attending appointments\n",
    "- Patients with co-morbidities tending to have a similar or lower percentage of not attending apppointments compared to the general population.\n",
    "- Appears to be an increase in missed appointments as the time of day increases.\n",
    "- Certain age groups appear to be more likely to miss appointments."
   ]
  },
  {
   "cell_type": "markdown",
   "metadata": {
    "_cell_guid": "6bd0d3cb-5878-412d-85be-ba5181bbc235",
    "_uuid": "c4dd0bf59f4355e6ca86d5d198b8c4400078dfc6"
   },
   "source": [
    "## Future Work"
   ]
  },
  {
   "cell_type": "markdown",
   "metadata": {
    "_cell_guid": "25f97366-5d83-4dce-a95a-16c6271c6ae5",
    "_uuid": "0e5051c533a6a06d0e7ca168cf7ebdaede96cd79"
   },
   "source": [
    "- Statisical tests of significance on some of the data gathered.\n",
    "- Predictive modelling using clasification algorithms to predict when a patient will not show for an appointment. "
   ]
  }
 ],
 "metadata": {
  "kernelspec": {
   "display_name": "Python 3",
   "language": "python",
   "name": "python3"
  },
  "language_info": {
   "codemirror_mode": {
    "name": "ipython",
    "version": 3
   },
   "file_extension": ".py",
   "mimetype": "text/x-python",
   "name": "python",
   "nbconvert_exporter": "python",
   "pygments_lexer": "ipython3",
   "version": "3.6.1"
  }
 },
 "nbformat": 4,
 "nbformat_minor": 1
}
